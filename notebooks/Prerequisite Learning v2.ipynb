{
 "cells": [
  {
   "cell_type": "code",
   "execution_count": 1,
   "metadata": {},
   "outputs": [],
   "source": [
    "import pandas as pd\n",
    "import numpy as np\n",
    "from sklearn import preprocessing\n",
    "import matplotlib.pyplot as plt \n",
    "plt.rc(\"font\", size=14)\n",
    "from sklearn.linear_model import LogisticRegression\n",
    "from sklearn.model_selection import train_test_split\n",
    "import seaborn as sns\n",
    "sns.set(style=\"white\")\n",
    "sns.set(style=\"whitegrid\", color_codes=True)"
   ]
  },
  {
   "cell_type": "code",
   "execution_count": 8,
   "metadata": {},
   "outputs": [],
   "source": [
    "from spellchecker import SpellChecker\n",
    "from nltk import word_tokenize\n",
    "\n",
    "def is_abbrev_single(a):\n",
    "    \n",
    "    a = a.strip()\n",
    "    \n",
    "    if a.isupper() and len(word_tokenize(a)) == 0:\n",
    "        return True\n",
    "    \n",
    "    return False\n",
    "\n",
    "def is_abbrev(a, b):\n",
    "        \n",
    "    a_abbrev = \"\"\n",
    "    for word in word_tokenize(a.replace(\"-\", \" \")):\n",
    "        a_abbrev += word[0]\n",
    "        \n",
    "    if(a_abbrev.strip().lower() == b.strip().lower()):\n",
    "        return True\n",
    "    \n",
    "    b_abbrev = \"\"\n",
    "    for word in word_tokenize(b.replace(\"-\", \" \")):\n",
    "        b_abbrev += word[0]\n",
    "            \n",
    "    if(b_abbrev.strip().lower() == a.strip().lower()):\n",
    "        return True\n",
    "    \n",
    "    return False\n",
    "\n",
    "#Returns True if both concepts, a and b refer to the same thing, False otherwise\n",
    "def entity_resolution(a, b):\n",
    "\n",
    "    a = a.strip()\n",
    "    b = b.strip()\n",
    "    \n",
    "    #Lowercase\n",
    "    if a.lower() == b.lower():\n",
    "        print(\"Reason: Lowercase\")\n",
    "        return True\n",
    "    \n",
    "    a = a.lower()\n",
    "    b = b.lower()\n",
    "    \n",
    "    if is_abbrev(a, b):\n",
    "        print(\"Reason: abbrev\")\n",
    "        return True\n",
    "\n",
    "    #Jumbled\n",
    "    words_a = [i for i in word_tokenize(a.replace(\"-\", \" \"))]\n",
    "    words_b = [i for i in word_tokenize(b.replace(\"-\", \" \"))]\n",
    "    if set(words_a) == set(words_b):\n",
    "        print(\"Reason: Jumbled/Hyphen\")\n",
    "        return True\n",
    "\n",
    "    #Spelling mistakes\n",
    "    spell = SpellChecker()\n",
    "    misspelled_a = spell.unknown(words_a)\n",
    "    misspelled_b = spell.unknown(words_b)\n",
    "    for misspelled_word in misspelled_a:\n",
    "        words_a[words_a.index(misspelled_word)] = spell.correction(misspelled_word)\n",
    "        a = a.replace(misspelled_word, spell.correction(misspelled_word))\n",
    "    for misspelled_word in misspelled_b:\n",
    "        words_b[words_b.index(misspelled_word)] = spell.correction(misspelled_word)\n",
    "        b = b.replace(misspelled_word, spell.correction(misspelled_word))\n",
    "\n",
    "    if set(words_a) == set(words_b):\n",
    "        print(\"Reason: Spelling Mistake/Jumbled\")\n",
    "        return True\n",
    "\n",
    "    #Substring\n",
    "    if a in b:\n",
    "        b_rest = b.replace(a, \"\").replace(\"(\", \"\").replace(\")\", \"\")\n",
    "        if is_abbrev(a, b_rest):\n",
    "            print(\"Reason: abbrev1\")\n",
    "            return True\n",
    "\n",
    "    if b in a:\n",
    "        a_rest = a.replace(b, \"\").replace(\"(\", \"\").replace(\")\", \"\")\n",
    "        if is_abbrev(b, a_rest):\n",
    "            print(\"Reason: abbrev2\")\n",
    "            return True\n",
    "\n",
    "    return False"
   ]
  },
  {
   "cell_type": "code",
   "execution_count": 11,
   "metadata": {},
   "outputs": [
    {
     "data": {
      "text/html": [
       "<div>\n",
       "<style scoped>\n",
       "    .dataframe tbody tr th:only-of-type {\n",
       "        vertical-align: middle;\n",
       "    }\n",
       "\n",
       "    .dataframe tbody tr th {\n",
       "        vertical-align: top;\n",
       "    }\n",
       "\n",
       "    .dataframe thead th {\n",
       "        text-align: right;\n",
       "    }\n",
       "</style>\n",
       "<table border=\"1\" class=\"dataframe\">\n",
       "  <thead>\n",
       "    <tr style=\"text-align: right;\">\n",
       "      <th></th>\n",
       "      <th>ConceptA</th>\n",
       "      <th>ConceptB</th>\n",
       "      <th>ChapterDist</th>\n",
       "      <th>PageDist</th>\n",
       "      <th>LineDist</th>\n",
       "      <th>WordDist</th>\n",
       "      <th>Total</th>\n",
       "      <th>LineCount</th>\n",
       "      <th>WordCount</th>\n",
       "      <th>Complexity</th>\n",
       "    </tr>\n",
       "  </thead>\n",
       "  <tbody>\n",
       "    <tr>\n",
       "      <th>0</th>\n",
       "      <td>abramson</td>\n",
       "      <td>norman</td>\n",
       "      <td>1873</td>\n",
       "      <td>5743</td>\n",
       "      <td>0</td>\n",
       "      <td>7</td>\n",
       "      <td>16</td>\n",
       "      <td>2</td>\n",
       "      <td>1</td>\n",
       "      <td>15</td>\n",
       "    </tr>\n",
       "    <tr>\n",
       "      <th>1</th>\n",
       "      <td>abramson</td>\n",
       "      <td>access control lists</td>\n",
       "      <td>-1791</td>\n",
       "      <td>-5009</td>\n",
       "      <td>0</td>\n",
       "      <td>0</td>\n",
       "      <td>16</td>\n",
       "      <td>0</td>\n",
       "      <td>0</td>\n",
       "      <td>15</td>\n",
       "    </tr>\n",
       "    <tr>\n",
       "      <th>2</th>\n",
       "      <td>abramson</td>\n",
       "      <td>access delay</td>\n",
       "      <td>3875</td>\n",
       "      <td>12861</td>\n",
       "      <td>0</td>\n",
       "      <td>0</td>\n",
       "      <td>48</td>\n",
       "      <td>0</td>\n",
       "      <td>0</td>\n",
       "      <td>13</td>\n",
       "    </tr>\n",
       "    <tr>\n",
       "      <th>3</th>\n",
       "      <td>abramson</td>\n",
       "      <td>access isp</td>\n",
       "      <td>44652</td>\n",
       "      <td>136996</td>\n",
       "      <td>0</td>\n",
       "      <td>0</td>\n",
       "      <td>448</td>\n",
       "      <td>0</td>\n",
       "      <td>0</td>\n",
       "      <td>-12</td>\n",
       "    </tr>\n",
       "    <tr>\n",
       "      <th>4</th>\n",
       "      <td>abramson</td>\n",
       "      <td>access networks</td>\n",
       "      <td>8674</td>\n",
       "      <td>15614</td>\n",
       "      <td>0</td>\n",
       "      <td>31</td>\n",
       "      <td>1056</td>\n",
       "      <td>7</td>\n",
       "      <td>1</td>\n",
       "      <td>-50</td>\n",
       "    </tr>\n",
       "  </tbody>\n",
       "</table>\n",
       "</div>"
      ],
      "text/plain": [
       "   ConceptA              ConceptB  ChapterDist  PageDist  LineDist  WordDist  \\\n",
       "0  abramson                norman         1873      5743         0         7   \n",
       "1  abramson  access control lists        -1791     -5009         0         0   \n",
       "2  abramson          access delay         3875     12861         0         0   \n",
       "3  abramson            access isp        44652    136996         0         0   \n",
       "4  abramson       access networks         8674     15614         0        31   \n",
       "\n",
       "   Total  LineCount  WordCount  Complexity  \n",
       "0     16          2          1          15  \n",
       "1     16          0          0          15  \n",
       "2     48          0          0          13  \n",
       "3    448          0          0         -12  \n",
       "4   1056          7          1         -50  "
      ]
     },
     "execution_count": 11,
     "metadata": {},
     "output_type": "execute_result"
    }
   ],
   "source": [
    "data = pd.read_csv('../results/Networking_concepts_features.csv', engine='python')\n",
    "data.head()"
   ]
  },
  {
   "cell_type": "code",
   "execution_count": 24,
   "metadata": {},
   "outputs": [
    {
     "data": {
      "text/html": [
       "<div>\n",
       "<style scoped>\n",
       "    .dataframe tbody tr th:only-of-type {\n",
       "        vertical-align: middle;\n",
       "    }\n",
       "\n",
       "    .dataframe tbody tr th {\n",
       "        vertical-align: top;\n",
       "    }\n",
       "\n",
       "    .dataframe thead th {\n",
       "        text-align: right;\n",
       "    }\n",
       "</style>\n",
       "<table border=\"1\" class=\"dataframe\">\n",
       "  <thead>\n",
       "    <tr style=\"text-align: right;\">\n",
       "      <th></th>\n",
       "      <th>ConceptA</th>\n",
       "      <th>ConceptB</th>\n",
       "      <th>Prereq</th>\n",
       "    </tr>\n",
       "  </thead>\n",
       "  <tbody>\n",
       "    <tr>\n",
       "      <th>0</th>\n",
       "      <td>Computer network</td>\n",
       "      <td>End system</td>\n",
       "      <td>1</td>\n",
       "    </tr>\n",
       "    <tr>\n",
       "      <th>1</th>\n",
       "      <td>End system</td>\n",
       "      <td>Server (computing)</td>\n",
       "      <td>0</td>\n",
       "    </tr>\n",
       "    <tr>\n",
       "      <th>2</th>\n",
       "      <td>End system</td>\n",
       "      <td>Router (computing)</td>\n",
       "      <td>0</td>\n",
       "    </tr>\n",
       "    <tr>\n",
       "      <th>3</th>\n",
       "      <td>End system</td>\n",
       "      <td>Virtual circuit</td>\n",
       "      <td>0</td>\n",
       "    </tr>\n",
       "    <tr>\n",
       "      <th>4</th>\n",
       "      <td>Computer network</td>\n",
       "      <td>Network security</td>\n",
       "      <td>1</td>\n",
       "    </tr>\n",
       "  </tbody>\n",
       "</table>\n",
       "</div>"
      ],
      "text/plain": [
       "           ConceptA            ConceptB  Prereq\n",
       "0  Computer network          End system       1\n",
       "1        End system  Server (computing)       0\n",
       "2        End system  Router (computing)       0\n",
       "3        End system     Virtual circuit       0\n",
       "4  Computer network    Network security       1"
      ]
     },
     "execution_count": 24,
     "metadata": {},
     "output_type": "execute_result"
    }
   ],
   "source": [
    "gt = pd.read_csv('../AL-CPL/features/proc_network_relation_v2.csv')\n",
    "gt.head()"
   ]
  },
  {
   "cell_type": "code",
   "execution_count": 32,
   "metadata": {},
   "outputs": [
    {
     "name": "stdout",
     "output_type": "stream",
     "text": [
      "['best-effort networks', 'costs', 'idea', 'registrars', 'route summarization', 'selective acknowledgment', 'development', 'standards', 'block', 'source-specific congestion-control actions', 'ip addresses', 'software control plane', 'ipv4 header', '802.11i', 'time slots', 'tcp ports', 'traffic engineering', 'transport-layer protocols', 'security management', 'continued evolution of', '2g', 'instantaneous', 'known-plaintext attack', 'initial state', 'bottleneck link', 'distance vector', 'hosts', 'imap server', 'foreign address', 'packet-forwarding decisions', 'service classes', 'simon s.', 'overlay network', 'bandwidth sensitive', 'load balancing', 'query arp message', 'network protocols', 'congestion window', 'destination', 'network management data', 'congestion avoidance', 'hidden terminal problem', 'switch poisoning', 'traffic policing', 'overlapping fragments', 'client side of http', 'links', 'application-layer', 'source address', 'client-server architecture', 'connection replay attack', 'cookies', 'sending', 'reliable delivery', 'tcp services', 'switch-based star topology', 'lan base stations', 'zigbee', 'rts/cts exchange', 'packet switching', 'lossy channel with bit errors', 'boggs', 'udp segments', 'queuing delays', 'channels', 'cumulative acknowledgments', 'polyalphabetic encryption', 'internet access', 'static', 'authentication key', 'buffering packets', 'looping advertisements', 'servers', 'authorized traffic', 'transfer time', 'network of networks', 'simple authentication', 'ethernet frames', 'tcp reno', 'adaptive streaming', 'always on', 'top-down approach', 'customer-provider relationship', 'urls', 'apache web server', 'priority queuing', 'rate adaptation', 'incident links', 'reliable channel', 'poor cryptographic hash function', 'positive acknowledgments', 'malware', 'cellular access', 'fin bit', 'hard guarantee', 'timeout', 'syn bit', 'if-modified-since: header line', 'pervasiveness', 'client socket', 'ron', 'leftmost state', 'agent advertisement', 'sprint', 'paul', 'infrastructure', 'state variable', 'mx record', 'triple-des', 'telephone networks', 'round robin queuing discipline', 'ipv4', 'applications', 'hot-potato routing', 'least-cost path', 'fluctuations in', 'total nodal', 'pull protocol', 'network core', 'connection closure', 'server authentication', 'source and destination ip addresses', 'analog audio', 'ing group', 'crossbar switch', 'proprietary', 'properties', 'agent discovery', 'choke packet', 'reservations', 'detecting and recovering from lost packets', 'baran', 'implementation', 'application-layer messages', 'udp streaming', 'timing', 'ack receipt', 'jennifer', 'network-layer components', 'data centers', 'browsers', 'link rates', 'flag field', 'implicit nak mechanism', 'global transit', 'host-to-host services', 'cryptographic hash functions', 'provable maximum delay', 'efficiency', 'call setup protocol', 'adaptive http streaming', 'flag day', 'ip header', 'complexity', 'send buffer', 'path between sender and receiver', 'switches', 'fault management', 'best-effort service', 'tim', 'architecture', 'interconnecting', 'reliable data transfer', 'file sharing', 'interconnection network', 'scheduling mechanisms', 'signaling messages', 'requests', 'web of trust', 'forwarding', 'network management protocol', 'rc4 algorithm', 'channel with bit errors', 'ieee 802.11 technology', 'trap messages', 'physical media', 'information about', 'transmission', 'web-based e-mail system', 'dotted-decimal notation', 'monoalphabetic cipher', 'packet sniffers', 'bus', 'characteristics', 'permanent', 'playback attacks', 'sending packets', 'voice and video applications', 'average rate', 'routing algorithms', 'direct routing', 'eavesdropping', 'directory service', 'multiplexing/demultiplexing function', 'canonical hostnames', 'ipv4 datagrams', 'wireless networks', 'data integrity', 'minitel project', 'workload model', 'type', 'connection service', 'foreign agent', 'multicast routing', 'home access', 'fiber optics', 'link-layer acknowledgments', 'dimensioning best-effort', 'certifying', 'switch fabric', 'stations', 'henning', 'intra-as routing protocols', 'network cache servers', 'large queuing delays', 'connection-establishment request', 'vlan trunking', 'store-and-forward packet switching', 'mobile ip standard', 'congestion-control mechanism', 'multicast packets', 'event-based', 'web pages', 'subnets', 'connection setup', 'mac address', 'customer isps', 'sliding-window protocol', 'bluetooth', 'connection establishment', 'application gateways', 'client-server application', 'network adapter', 'destination router', 'dhcp offer message', 'bits', 'detecting bit errors', 'root dns servers', 'lease time', 'calculation', 'routers', 'rip table', 'cleartext', 'header fields', 'efficient use of', 'visited msc', 'message integrity', 'undetectable collisions', 'link-state routing algorithms', 'two-dimensional parity scheme', 'multihop', 'session layer', 'post method', 'vc networks', 'awareness of wireless links', 'vinton g.', 'adapters', 'administrative autonomy', 'glitches', 'qq', '3g networks', 'decentralized routing algorithm', 'base html file', 'loss-tolerant', 'window size', 'decentralized', 'wireless access', 'end-point', 'dimensioning best-effort networks', 'youtube', 'internet applications', 'private networks', '3g radio access networks', 'accounting management', 'client and server processes', 'q2931b protocol', 'link-layer frames', 'web caches', 'security services', 'cert coordination center', 'transmission rates', 'logical communication between hosts', 'reliable', 'ip broadcast', 'aliasing', 'gateway routers', 'syn packet', 'mpls paths', 'application-layer protocols', 'packetization', 'os vulnerability attacks', 'tcp synack segment', 'flow labeling and priority', 'hotspots', 'cells', 'packet queues', 'temporary ip address', 'ipv4 addressing', 'perfectly reliable channel', 'link-layer addresses', 'hardware-implemented protocols', 'mobile devices', 'defining', 'syn cookies', 'mobility', 'peak rate', 'syn segment', 'operational', 'web sites', 'session', 'developing', 'limited-scope flooding', 'stop-and-wait protocols', 'circuit-switched', 'parallel tcp connections', 'conditioning', 'store-and-forward', 'bandwidth-sensitive applications', 'first-hop', 'buffer sizing', 'graphs', 'area border', 'intra-as routing', 'comcast', 'presentation service', 'flow control', 'expedited forwarding phb', 'circuit switching', 'obtaining', 'handshaking', 'data transfer', 'pop3 user agent', 'http and', 'edge router', 'source', 'datagrams', 'channel propagation delay', 'tcp and', 'deborah', 'hierarchical', 'pipelining', 'version number', 'adleman', 'home agents', 'anycast', 'server processes', 'nonces', 'route advertisement', 'bandwidth provisioning', 'snmp applications', 'mail access protocols', 'mac addresses', 'remote host', 'routing daemons', 'connectionless service', 'leaky bucket mechanism', 'public-key cryptography', 'broadcast storm', 'public key encryption', 'replicated servers', 'acknowledgments', 'file transfer', 'tree-join messages', 'extended', 'paging', 'dropping', 'ieee protocols', 'network-assisted congestion control', 'value) approach', 'access isp', 'buffer overflow', 'schulzrinne', 'integrity', 'mailbox', 'delivering', 'local dns server', 'small networks', 'vlan tag', 'message queue', 'traffic isolation', 'wireshark packet sniffer', 'aging time', 'well-known', 'routing control plane', 'switched local area networks', 'commercialization', 'management', 'pipelined reliable data transfer protocols', 'stateless', 'end-to-end', 'congestion-related information', 'lost acknowledgment', 'checksumming methods', 'ground stations', 'buffering', 'multicast', 'internet telephony applications', 'prefetching video', 'layer-4 switch', 'end-point authentication', 'hash functions', 'timing considerations and tolerance of data loss', 'fixed playout delay', 'packet-switching networks', 'transmitting', 'arpanet', 'multiplexing', 'geostationary satellites', 'md5 hash algorithm', 'router discovery message', 'multicast protocols', 'secure voice over military networks', 'internet services', 'shamir', 'stream ciphers', 'lower-tier isps', 'network-layer protocols', 'packet scheduler', 'multiple service models', 'non-persistent connections', 'electronic mail', 'adaptive congestion control', 'caching', 'three-way handshake', 'area border routers', 'public key algorithm', 'mail clients', 'communication links', 'receive window', 'bandwidth', 'stateful packet filters', 'cryptography', 'dave', 'jitter', 'time-sensitive applications', 'error detection and correction', 'provided by internet', 'inter-as routing', 'controlled flooding', 'best-effort delivery service', 'input processing', 'components', 'port scanners', 'filtering', 'packet delay and loss', 'networks as', 'records', 'polynomial codes', 'congestion control', 'frame format', 'public domain', 'ip', 'p2p delivery', 'abramson', 'rightmost state', 'hostnames', 'output ports', 'david', 'link-layer addressing', 'destination port numbers', 'telenet', 'malicious packet attacks', 'monitoring traffic', 'non-real-time applications', 'passwords', 'urgent data pointer field', 'tcp', 'routing to', 'transport services', 'get request', 'udp header', 'wireshark labs', 'receiver-side transport layer', 'length', 'norman', 'complexity and cost', '100 mbps ethernet', 'utilization', 'named data', 'next-hop attribute', 'wired broadcast links', 'response arp', 'chipping rate', 'network-layer datagram', 'canonical', 'larry', 'finite buffers', 'correspondent', 'multicast group', 'rsvp', 'syn_sent state', 'input ports', 'fairness', 'inter-domain protocol', 'proxy servers', 'home networks', 'broadcast channels', 'connection reversal', 'bittorrent', 'file distribution', 'handoff between', 'out-of-band', 'processes communicating', 'designed by netscape', 'nodeâ€™s decision to transmit', 'computer networks', 'end points', 'iptv', '4g systems', 'crossbar', 'hub-based star topology', 'principles of', 'power management', 'countdown timer', 'mac protocols', 'addressing processes', 'fields', 'output processing', 'visited network', 'objects', 'least costly paths', 'hostname-to-ip-address translation service', 'recursion', 'tcp server', 'out-of-order segments', 'mobility among', 'mib modules', 'network applications', 'ipv6', 'storing routing information', 'diameter protocol', 'dhcp request message', 'syntax', 'client process', 'rendezvous point', 'map message', 'mobile ip', 'conditional get', 'diffserv', 'destination ip address', 'ipsec', 'n-way-unicast', 'names', 'snmp (simple network management protocol)', 'unreliable data transfer', 'manifest file', 'agent solicitation', 'transport-layer packets', 'adaptive playout delay', 'switching via', 'multiple classes of service', 'last-modified: header line', '10base-2', 'ssl record', 'alohanet', 'wireless', 'tcp connections', 'receive buffer', 'unreliable service', 'napster', 'symmetric key cryptography', 'handoffs', 'bellman-ford equation', 'kahn', 'directly talking with ip', 'physical links between', 'packet-switched', 'global', 'parity checks', 'ip datagrams', 'dynamic', 'load-sensitive', 'building', 'vc number', 'tunneling', 'nat', 'connection-granted segment', 'estrin', 'in-order packet delivery', 'wireless lans', 'network management agent', 'event', '802.11 wireless lans', 'ethernet', 'spyware', 'addressing', 'internet commerce', 'distant centralized database', 'smtp clients', 'transitioning from ipv4', 'presentation layer', 'layering', 'server program', 'query messages', 'private addresses', 'route selection', 'duplicate acks', 'source router', 'forwarding function', 'single point of failure', 'monitoring', 'terminating', 'tracker', 'internet checksum', 'netscape communications corporation', 'streaming stored', 'transport protocols', 'ciphertext-only attack', 'network-layer multicast routing algorithms', 'packet-discarding policy', 'timeout/retransmit mechanism', 'connection state', 'buffers', 'total nodal delay', 'attacks and', 'ip definition of', 'web caching', 'sha', 'indirect routing', 'primary role', 'as-path attribute', 'popularity', 'communication between client and server', 'tcp buffers', 'keys', 'standards for cas', '10base-t', 'self-replicating', 'propagation delay', 'stop-and-wait', 'tcp tahoe', 'ieee 802.11i', 'host monitoring', 'skype', 'tcp protocol', 'class a', 'plug-and-play', 'ssh protocol', 'in-band', 'ack/nak packets', 'secure e-mail system', 'transport-layer', 'separation of ip', 'default', 'differentiated service', 'receiver-based recovery', 'fdm/tdm systems', 'connection state information', 'netflix', 'foreign', 'radio channels', 'plug-and-play protocol', 'rst segment', 'mobile nodes', 'http', 'dns servers', 'soft guarantee', 'wireless links', 'access delay', 'conversational applications', 'blades', 'connecting end systems', 'random access protocols', 'tcp sender', 'carrier-sensing random access', 'tunnel mode', 'elastic applications', 'mib objects', 'cname record', 'default name server', 'retransmission timer', 'alternating-bit', 'prefix', 'variables', 'performance management', 'route attributes', 'rivest', 'server smtp', 'process-to-process delivery service', 'data rates', 'buffered distributors', 'connection-oriented service', 'regional isps', 'control functions', 'load balancer', 'connection sockets', 'hostname of', 'privacy', 'receiver feedback', 'web-based e-mail', 'truncation attack', 'broadcast', 'services description', 'interactivity', 'handshake', 'kademlia dht', 'processes', 'rsa', 'network prefix', 'snmp messages', 'web client-server interaction', 'approaches', 'creation', 'base station', 'mail servers', 'delay-sensitive', 'local area networking', 'recovering from packet loss', 'identifying', 'server socket', 'receive window field', 'sip', 'ec2', 'stored audio and video', 'flooding', 'routing processor', 'packet switches', 'source quench message', 'intrusion detection', 'overview', 'van', 'tcp congestion-control algorithm', 'public key', 'bss', 'secure communication', 'error detection', 'private key', 'no-frills segment-delivery service', 'coaxial cable', 'prerecorded', 'twitter', 'fragmentation and', 'error concealment', 'chosen-plaintext attack', 'forwarding tables', 'ipv4 addresses', 'multihop paths', 'confidentiality', 'distributed applications', 'cable internet access', 'flat structure', 'udp ports', 'aloha protocol', 'network layer', 'address fields', 'networks', 'flow of packets', 'operation', 'single-hop', 'network service models', 'streaming live audio and video', 'trunk port to interconnect', 'programming', 'network-layer packets', 'wireless hosts', 'processing', 'request-response mode', 'byte stream', 'video', 'data definition language', 'piconet', 'key management', 'multiplexing/demultiplexing service', 'tcp sockets', 'parity bits', 'ip spoofing', 'rtp packets', 'symmetric key', '3des', 'soft state', 'connecting', 'routing protocols', 'definition', '10gbase-t', 'out-of-order', 'range', 'reply messages', 'hot-potato', 'tcp syn segment', 'sram', 'user-based', 'encrypted', 'encoding audio', 'pop3 server', 'rotation', 'store-and-forward transmission', 'integrity checking', 'plug-and-play devices', 'live audio and video', 'terminology', 'robert', 'link layer', 'retransmission timeout interval', 'error checking', 'conversational voice', 'datagram reassembly', 'satellite links', 'multi-player online games', 'acknowledgment number', 'demultiplexing', 'delays', 'telnet', 'physical-layer protocols', 'wide-area wireless access', 'human protocols', 'protocol stack', 'security and administration capabilities', 'multicast addresses', 'uncontrolled flooding', 'ip subnet', 'client-server paradigm', 'synack segment', 'rtp and', 'scale', 'growth of', 'established state', 'receiver authentication', 'url field', 'steven m.', 'burst size', 'services provided by', 'ssl classes/libraries', 'get method', 'persistent http', 'call admission', 'metcalfe', 'server side of http', 'layer-2 packet switch', 'multimedia applications', 'access networks', 'circuit-switched networks', 'decryption algorithm', 'hardware-implemented', 'prefixes', 'classful addressing', 'switching', 'sender authentication', 'address of', 'small office', 'w web', 'secret password', 'physical layer', 'odd parity schemes', 'successful slots', 'connection-oriented', 'congestion-control', 'persistent connections', 'configuration management', 'application architecture', 'link-layer protocols', 'python', 'protocols', 'secure network programming', 'managing mobility', 'token-passing protocol', 'traceroute program', 'cerf', 'streaming media', 'less lans', 'csnet (computer science network)', 'method field', 'lost segments', 'logical communication between', 'adi', 'channel partitioning protocols', 'recovering from', 'spanning tree', 'segmentation', 'self-scalability', 'berners-lee', 'html', 'address aggregation', 'transport-layer segments', 'mpeg', 'point-to-point communication link', 'between client and server', 'broadcast protocols', 'packet repetition', 'web', 'hierarchical structure', 'cryptographic algorithms', 'scalability', 'smtp servers', 'wireless systems', 'pipelined', 'access point', 'web proxy caches', 'tracing', 'instant messaging', 'public key certification', 'retransmission', 'deep packet inspection', 'fast retransmit', '32-bit sequence number', 'queuing theory', 'types', 'tcp sender awareness', 'geographically closest', 'recursive queries', 'default router', 'connectionless transport', 'sequence-number-controlled flooding', 'social networking', 'checksums', 'signaling protocols', 'processing delays', 'origin authentication', 'attributes', 'fixed-length labels', 'update option', 'response message', 'inter-as', 'cryptographic techniques', 'transmission delays', 'hidden terminals', 'server process', 'time-sharing networks', 'negative acknowledgments', 'full-duplex service', 'akamai', 'chunks', 'marc', 'limelight', 'connection table', 'source port number field', 'shannon', 'transport mode', 'longest prefix matching rule', 'multiple access protocols', 'shared medium', 'undetected bit errors', 'datagram networks', 'block ciphers', 'udp transport-layer protocol', 'awareness of', 'http streaming (over tcp)', 'peers', 'repositioning', 'split-connection approaches', 'alias', 'internet telephony', 'e-mail', 'collisions', 'internet', 'video streaming applications', 'lookup', 'intra-as', 'hierarchy', 'ad hoc networks', 'output queue', 'kankan', 'end-to-end service', 'structure', 'fragmentation', 'iterative queries', 'ipv6 header', 'dual-stack approach', 'tions', 'ing)', 'quantization', 'is-is protocol', 'configured hierarchically', 'packet delay', 'multi-homing', 'connectionless', 'network-assisted', 'alias hostname', 'tcp vegas', 'wireless station', 'link-state messages', 'twisted-pair copper wire', 'bit-level error detection and correction', 'provider', 'infrastructure-based', 'amazon cloud', 'port-based vlan', 'ciphertext', 'public-key encryption algorithm', 'globally unique', 'packet filtering', 'store-and-forward packet switches', 'http streaming', 'forwarding plane', 'destination host', 'ppstream', 'client program', 'proprietary application-layer protocols', 'leaky bucket', 'multicasting', 'bit errors', 'ipv6/ipv4 nodes', 'link weights', 'end-to-end delay', 'transport layer', 'udp', 'senderâ€™s source address', 'bitnet', 'private', 'polls', 'work-conserving round robin discipline', 'format', 'socket interface', 'vulnerability attacks', 'load distribution', 'tcp header', 'duplicate data packets', 'packet loss', 'transport services available to applications', 'relays', 'kleinrock', 'syn flood attack', 'qam16 modulation', 'snort', 'socket programming', 'authoritative dns servers', '802.15.1 networks', 'encryption algorithm', 'spatial redundancy', 'prefix bits', 'port scans', 'establishing', 'subnet mask', 'rip response message', 'connections', 'caesar cipher', 'streaming video', '3g', 'guided media', 'corrupted acks or naks', 'blocked', 'services', 'anonymity', 'modular arithmetic', 'gateway', 'end-to-end throughput', 'spanning-tree broadcast', 'switched networks', 'firewalls', 'routing packets', 'point-to-point', 'web browsers', 'csma/cd protocol', 'traditional packet filters', 'queuing', 'gui interfaces', 'displaying', 'location protocol', 'internet api', 'taking-turns protocols', 'static routing algorithm', 'arp tables', 'datagram service', 'gigabit ethernet', 'polling protocols', 'mobility-related services', 'self-learning', 'internetting', 'hubs', 'dsl (digital subscriber line)', 'network infrastructure', 'data link layer', 'digital signatures', 'optical distribution network', 'cluster selection strategy', 'microwave access)', 'video conferencing', 'association', 'permanent address', 'reordering', 'frequency band', 'packets', 'authentication', 'datagram passed', 'segments', 'routes', 'standardized', 'interfaces', 'security', 'bgp sessions', 'bandwidth flooding', 'de facto standard for internetworking', 'dhcp servers', 'import policy', 'path', 'least-cost', 'microsoft', 'peering', 'sequence number', 'ip protocol', 'destination port number field', 'shortest-path tree', 'multi-hop', 'average', 'multiple-input', 'rip routers', 'prefetching', 'internet addressing and forwarding', 'lam', 'silent periods', 'playout delay', 'plaintext', 'dial-up access', 'messages', 'put method', 'gsm', 'routers and switches', 'wireless devices', 'end-to-end congestion control', 'ipv6 datagrams', 'receiving adapter', 'anchor msc', 'frame', 'peering agreements', 'network attacks', 'nodal processing', 'sending rates', 'heterogeneous links', 'loss', 'small packet header overhead', 'decreasing signal strength', 'broadcast address', 'duplicate', 'executing', '3g systems', 'control connection', 'unidirectional', 'dhcp discovery message', 'multipath propagation', 'unchoked', 'border routers', 'infrastructure-less', 'header checksum', 'linking universities', 'http server', 'assured forwarding phb', 'packet forwarding', 'reliable data transfer service', 'implementation aspects', 'interleaving', 'tcp clients', 'delivering data', 'social networks', 'slotted aloha protocol', 'round-trip delays', 'port number', 'cellular', 'steve', 'principles', 'wired networks', 'host aliasing', 'packet sizes', 'translating hostnames to', 'intensity', 'switched ethernet', 'additive-increase', 'piggybacked', 'streaming', 'snmpv3', 'cisco systems', 'network-layer addresses', 'source port numbers', 'history of', '3g cellular data networks', 'leonard', 'guaranteed minimal', 'md5', 'streaming stored audio and video', 'router forwarding plane', 'is-is', 'routing tables', 'clark', 'attacks', 'bgp peers', 'global routing algorithm', 'end systems', 'ip anycast', 'checksumming', 'to mobile node', 'rtp', 'propagation', 'rip advertisements', '3g core network', 'ip multicast', 'link virtualization', 'carrier sensing', 'electromagnetic noise', 'multiple access problem', 'network dimensioning', 'offered load', 'access protocols', 'ending', 'managed device', 'metering function', 'andreessen', 'lost packets', 'delaying playout', 'routing', 'labeling', 'bursty traffic', 'packet-switched networks', 'hulu', 'digital audio', 'managing entity', 'process-to-process communication', 'databases', 'committee', 'switch table', 'full-table block ciphers', 'udp packet', 'cloud', 'unidirectional data transfer', 'per-connection throughput', 'satellite radio channels', 'certificates', 'interference from other sources', 'arp modules', 'applications running on', 'sender-to-receiver channel', 'hardware data plane', 'tcp segments', 'link-layer switches', 'transmission and receipt of messages', 'label-switched', 'link-layer', 'streaming stored video', 'routing updates', 'host-to-host communication', 'losing packets', 'internet routing protocols', 'timestamps', 'public key systems', 'udp (user datagram protocol)', 'rts frame', 'cable modems', 'heterogeneous', 'welcoming socket', 'encapsulation', 'high-speed', 'bob', 'transparent', 'modems', 'early versions', 'dns', 'sockets', 'dns and', 'traffic profile', 'guaranteed delivery', 'binary exponential backoff algorithm', 'bellovin', 'unreliable', 'repeater', 'routing policy', 'enhanced security', 'triangle routing problem', 'hierarchical routing', 'vc setup', 'drop-tail', 'rsa algorithm', 'enterprises', 'shortest paths', 'clients', 'steady-state behavior', 'packet marking', 'hops', 'reliable transport service', 'state', 'format of', 'internet transport protocols', 'collision detection', 'point-to-point links', 'output buffers', 'claude', 'authenticating', 'web servers', 'torrent', 'access control lists', 'message format', 'packet-radio networks', 'broadcast link', 'packet reordering', 'high-bandwidth paths', 'botnet', 'bidirectional', 'header overhead', 'communication satellite', 'handoffs in gsm', 'key derivation', 'unguided media', 'application layer', 'layered architecture', 'foreign networks', 'client buffering', 'transport-layer multiplexing', 'versus routers', 'human speech', 'tcp splitting', 'instantaneous throughput', 'throughput', 'data center networks', 'ddos bandwidth-flooding attack', 'video stream', 'tier-1 isps', 'deering', 'same priority class', 'anchor foreign agent', 'physical address', 'p2p architecture', 'circuit-switched routing algorithm', 'packet satellite', 'bgp attributes', 'connectivity', 'real-time applications', 'visited', 'initial versions', 'allocating', 'configuring', 'managed objects', 'multiple access links', 'asn.1 (abstract syntax notation one)', 'human analogy', 'dht', 'socket module', 'client-server application architecture', 'well-known port number', 'wifi', 'symmetric algorithm', 'user-based security', 'full-duplex', 'server-to-client', 'tlv (type', 'transmitting frames', 'permanent home', 'roaming number', 'coverage area', 'address assignment strategy', 'ping program', 'continuous playout', 'snort ids system']\n"
     ]
    }
   ],
   "source": [
    "pred_concepts = list(data['ConceptA'])\n",
    "pred_concepts += list(data['ConceptB'])\n",
    "pred_concepts = list(set(pred_concepts))\n",
    "pred_concepts = [pred_concept.lower() for pred_concept in pred_concepts]\n",
    "pred_total = len(pred_concepts)\n",
    "print(pred_concepts)"
   ]
  },
  {
   "cell_type": "code",
   "execution_count": 34,
   "metadata": {},
   "outputs": [
    {
     "name": "stdout",
     "output_type": "stream",
     "text": [
      "['file transfer protocol', 'bluetooth', 'asynchronous transfer mode', 'physical layer', 'network delay', 'file transfer', 'ethernet frame', 'domain name', 'stateless protocol', 'list of dns record types', 'network packet', 'traffic intensity', 'channel access method', 'attack (computing)', 'minimum spanning tree', 'virtual lan', 'ipv6', 'network interface controller', 'voice over ip', 'carrier sense multiple access with collision avoidance', 'internet protocol suite', 'list of http header fields', 'data center', 'open shortest path first', 'digital subscriber line access multiplexer', 'bit error rate', 'interference (communication)', 'threat (computer)', 'routing', '4g', 'store and forward', 'client (computing)', '2g', 'broadband', 'encapsulation (networking)', 'http cookie', 'client-server model', 'network layer', 'end system', 'lte (telecommunication)', 'data link layer', 'root name server', 'name server', 'carrier sense multiple access with collision detection', 'peer-to-peer', 'session layer', 'dsl modem', 'timeout (computing)', 'queuing delay', 'round-trip delay time', 'cable internet access', 'parity bit', 'base transceiver station', 'top-level domain', 'user datagram protocol', 'internet control message protocol', 'web cache', 'circuit switching', 'datagram', 'dynamic host configuration protocol', 'spyware', 'physical media', 'mac address', 'error detection and correction', 'alohanet', 'internet message access protocol', 'simple mail transfer protocol', 'handshaking', 'transmission medium', 'address resolution protocol', 'server (computing)', 'load balancing (computing)', 'mx record', 'twisted pair', 'routing information protocol', 'active queue management', 'network socket', 'carrier sense multiple access', 'ip multicast', 'classless inter-domain routing', 'overlay network', 'computer network', 'ip address spoofing', 'security service (telecommunication)', 'wireless network', 'domain name system', 'router (computing)', 'bottleneck (network)', 'protocol independent multicast', 'ethernet', 'email', 'throughput', 'ipv6 packet', 'network delay', 'selective repeat arq', 'local area network', 'web page', 'proxy server', 'internet group management protocol', 'web application', 'computer virus', 'web server', 'packet forwarding', 'time-division multiplexing', 'ip address', 'application programming interface', 'connection-oriented communication', 'random early detection', 'interior gateway protocol', 'core network', 'link-state routing protocol', 'exponential backoff', 'ieee 802.11', 'link layer', 'access network', 'multiprotocol label switching', 'packet switching', 'reverse path forwarding', 'connectionless communication', 'multicast', 'subnetwork', 'packet forwarding', 'internet exchange point', 'packet switch', 'osi model', 'multipath propagation', 'internet protocol', 'internet access', 'post office protocol', 'transmission delay', 'automatic repeat request', 'network scheduler', 'cellular network', 'packet loss', 'processing delay', 'botnet', 'digital subscriber line', 'path loss', 'distributed hash table', 'application layer', 'retransmission (data networks)', 'fifo (computing and electronics)', 'computer worm', 'traffic contract', 'protocol stack', 'forwarding information base', 'peer-to-peer file sharing', 'ipv4', '3g', 'presentation layer', 'network service', 'frequency-division multiplexing', 'hierarchical routing', 'internet', 'network congestion', 'best-effort delivery', 'end-to-end delay', 'slow-start', 'crossbar switch', 'switched fabric', 'hypertext transfer protocol', 'http persistent connection', 'routing protocol', 'transport layer', 'fast retransmit', 'network address translation', 'flow control (data)', 'home network', 'dns root zone', 'code division multiple access', 'flooding (computer networking)', 'border gateway protocol', 'virtual circuit', 'distance-vector routing protocol', 'user agent', 'gsm', 'communications protocol', 'port (computer networking)', 'transmission control protocol', 'denial-of-service attack', 'forward error correction', 'html', 'internet service provider', 'internet protocol', 'tcp congestion-avoidance algorithm', 'network security', 'wi-fi', 'ip fragmentation', 'http message body', 'optical fiber', 'coaxial cable', 'cname record', 'go-back-n arq', 'multiplexing', 'negative-acknowledge character', 'inter-process communication', 'bittorrent', 'channel (communications)', 'routing control plane', 'reliability (computer networking)']\n"
     ]
    }
   ],
   "source": [
    "gt_concepts = list(gt['ConceptA'])\n",
    "gt_concepts += list(gt['ConceptB'])\n",
    "gt_concepts = list(set(gt_concepts))\n",
    "gt_concepts = [gt_concept.lower() for gt_concept in gt_concepts]\n",
    "actual_total = len(gt_concepts)\n",
    "print(gt_concepts)"
   ]
  },
  {
   "cell_type": "code",
   "execution_count": 40,
   "metadata": {},
   "outputs": [
    {
     "name": "stdout",
     "output_type": "stream",
     "text": [
      "0.75\n"
     ]
    }
   ],
   "source": [
    "count = 0\n",
    "i = 0\n",
    "for gt_concept in gt_concepts:\n",
    "    for concept in pred_concepts:\n",
    "        if (gt_concept in concept) or (concept in gt_concept):\n",
    "            count += 1\n",
    "            break\n",
    "print(count/actual_total)"
   ]
  },
  {
   "cell_type": "code",
   "execution_count": 42,
   "metadata": {},
   "outputs": [
    {
     "ename": "AttributeError",
     "evalue": "'numpy.ndarray' object has no attribute 'to_list'",
     "output_type": "error",
     "traceback": [
      "\u001b[1;31m---------------------------------------------------------------------------\u001b[0m",
      "\u001b[1;31mAttributeError\u001b[0m                            Traceback (most recent call last)",
      "\u001b[1;32m<ipython-input-42-88499f96ad6b>\u001b[0m in \u001b[0;36m<module>\u001b[1;34m\u001b[0m\n\u001b[1;32m----> 1\u001b[1;33m \u001b[0mgt\u001b[0m\u001b[1;33m.\u001b[0m\u001b[0mvalues\u001b[0m\u001b[1;33m.\u001b[0m\u001b[0mto_list\u001b[0m\u001b[1;33m(\u001b[0m\u001b[1;33m)\u001b[0m\u001b[1;33m\u001b[0m\u001b[1;33m\u001b[0m\u001b[0m\n\u001b[0m",
      "\u001b[1;31mAttributeError\u001b[0m: 'numpy.ndarray' object has no attribute 'to_list'"
     ]
    }
   ],
   "source": [
    "gt.values.to_list()"
   ]
  }
 ],
 "metadata": {
  "kernelspec": {
   "display_name": "Python 3.7.4 64-bit ('base': conda)",
   "language": "python",
   "name": "python37464bitbaseconda65d29b067ab74d8c9fcb587724eb27cf"
  },
  "language_info": {
   "codemirror_mode": {
    "name": "ipython",
    "version": 3
   },
   "file_extension": ".py",
   "mimetype": "text/x-python",
   "name": "python",
   "nbconvert_exporter": "python",
   "pygments_lexer": "ipython3",
   "version": "3.7.4"
  }
 },
 "nbformat": 4,
 "nbformat_minor": 2
}
