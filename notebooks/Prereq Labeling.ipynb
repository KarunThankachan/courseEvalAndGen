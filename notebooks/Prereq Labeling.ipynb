{
 "cells": [
  {
   "cell_type": "code",
   "execution_count": 1,
   "metadata": {},
   "outputs": [],
   "source": [
    "import pandas as pd"
   ]
  },
  {
   "cell_type": "code",
   "execution_count": 6,
   "metadata": {},
   "outputs": [
    {
     "data": {
      "text/html": [
       "<div>\n",
       "<style scoped>\n",
       "    .dataframe tbody tr th:only-of-type {\n",
       "        vertical-align: middle;\n",
       "    }\n",
       "\n",
       "    .dataframe tbody tr th {\n",
       "        vertical-align: top;\n",
       "    }\n",
       "\n",
       "    .dataframe thead th {\n",
       "        text-align: right;\n",
       "    }\n",
       "</style>\n",
       "<table border=\"1\" class=\"dataframe\">\n",
       "  <thead>\n",
       "    <tr style=\"text-align: right;\">\n",
       "      <th></th>\n",
       "      <th>ConceptA</th>\n",
       "      <th>ConceptB</th>\n",
       "    </tr>\n",
       "  </thead>\n",
       "  <tbody>\n",
       "    <tr>\n",
       "      <th>0</th>\n",
       "      <td>amazon cloudfront</td>\n",
       "      <td>amazon cloudwatch</td>\n",
       "    </tr>\n",
       "    <tr>\n",
       "      <th>1</th>\n",
       "      <td>amazon cloudfront</td>\n",
       "      <td>amazon devpay</td>\n",
       "    </tr>\n",
       "    <tr>\n",
       "      <th>2</th>\n",
       "      <td>amazon cloudfront</td>\n",
       "      <td>amazon elastic block store (ebs)</td>\n",
       "    </tr>\n",
       "    <tr>\n",
       "      <th>3</th>\n",
       "      <td>amazon cloudfront</td>\n",
       "      <td>amazon machine images (amis)</td>\n",
       "    </tr>\n",
       "    <tr>\n",
       "      <th>4</th>\n",
       "      <td>amazon cloudfront</td>\n",
       "      <td>iaas model</td>\n",
       "    </tr>\n",
       "  </tbody>\n",
       "</table>\n",
       "</div>"
      ],
      "text/plain": [
       "            ConceptA                          ConceptB\n",
       "0  amazon cloudfront                 amazon cloudwatch\n",
       "1  amazon cloudfront                     amazon devpay\n",
       "2  amazon cloudfront  amazon elastic block store (ebs)\n",
       "3  amazon cloudfront      amazon machine images (amis)\n",
       "4  amazon cloudfront                        iaas model"
      ]
     },
     "execution_count": 6,
     "metadata": {},
     "output_type": "execute_result"
    }
   ],
   "source": [
    "data = pd.read_csv(\"../results/concept_labeled.csv\", engine='python')\n",
    "data.head()"
   ]
  },
  {
   "cell_type": "code",
   "execution_count": 14,
   "metadata": {},
   "outputs": [
    {
     "name": "stdout",
     "output_type": "stream",
     "text": [
      "amazon cloudwatch\n"
     ]
    }
   ],
   "source": [
    "data['prereq'] = 0\n",
    "concepts = list(data['ConceptA'].unique())\n",
    "print(concepts[1])"
   ]
  },
  {
   "cell_type": "code",
   "execution_count": 21,
   "metadata": {},
   "outputs": [
    {
     "name": "stdout",
     "output_type": "stream",
     "text": [
      "yup\n"
     ]
    }
   ],
   "source": [
    "concepts = list(data[data['ConceptA'] == 'amazon cloudwatch']['ConceptB'].unique())\n",
    "if 'elastic load balancing' in concepts:\n",
    "    print(\"yup\")\n",
    "    \n",
    "#auto scaling\n",
    "#elastic load balancing"
   ]
  },
  {
   "cell_type": "code",
   "execution_count": 25,
   "metadata": {},
   "outputs": [],
   "source": [
    "data.loc[(data['ConceptA'] == 'amazon cloudwatch') & (data['ConceptB'] == 'auto scaling'),'prereq'] = 1\n",
    "data.loc[(data['ConceptA'] == 'amazon cloudwatch') & (data['ConceptB'] == 'elastic load balancing'),'prereq'] = 1\n",
    "# data.loc[(data['ConceptA'] == '') & (data['ConceptB'] == ''),'prereq'] = 1\n",
    "# data.loc[(data['ConceptA'] == '') & (data['ConceptB'] == ''),'prereq'] = 1\n",
    "# data.loc[(data['ConceptA'] == '') & (data['ConceptB'] == ''),'prereq'] = 1\n",
    "# data.loc[(data['ConceptA'] == '') & (data['ConceptB'] == ''),'prereq'] = 1\n",
    "# data.loc[(data['ConceptA'] == '') & (data['ConceptB'] == ''),'prereq'] = 1\n",
    "# data.loc[(data['ConceptA'] == '') & (data['ConceptB'] == ''),'prereq'] = 1\n",
    "# data.loc[(data['ConceptA'] == '') & (data['ConceptB'] == ''),'prereq'] = 1\n",
    "# data.loc[(data['ConceptA'] == '') & (data['ConceptB'] == ''),'prereq'] = 1\n",
    "# data.loc[(data['ConceptA'] == '') & (data['ConceptB'] == ''),'prereq'] = 1\n",
    "# data.loc[(data['ConceptA'] == '') & (data['ConceptB'] == ''),'prereq'] = 1\n",
    "# data.loc[(data['ConceptA'] == '') & (data['ConceptB'] == ''),'prereq'] = 1\n",
    "# data.loc[(data['ConceptA'] == '') & (data['ConceptB'] == ''),'prereq'] = 1\n",
    "# data.loc[(data['ConceptA'] == '') & (data['ConceptB'] == ''),'prereq'] = 1\n",
    "# data.loc[(data['ConceptA'] == '') & (data['ConceptB'] == ''),'prereq'] = 1\n",
    "# data.loc[(data['ConceptA'] == '') & (data['ConceptB'] == ''),'prereq'] = 1\n",
    "# data.loc[(data['ConceptA'] == '') & (data['ConceptB'] == ''),'prereq'] = 1\n",
    "# data.loc[(data['ConceptA'] == '') & (data['ConceptB'] == ''),'prereq'] = 1\n",
    "# data.loc[(data['ConceptA'] == '') & (data['ConceptB'] == ''),'prereq'] = 1\n",
    "# data.loc[(data['ConceptA'] == '') & (data['ConceptB'] == ''),'prereq'] = 1\n",
    "# data.loc[(data['ConceptA'] == '') & (data['ConceptB'] == ''),'prereq'] = 1\n",
    "# data.loc[(data['ConceptA'] == '') & (data['ConceptB'] == ''),'prereq'] = 1\n",
    "# data.loc[(data['ConceptA'] == '') & (data['ConceptB'] == ''),'prereq'] = 1\n",
    "# data.loc[(data['ConceptA'] == '') & (data['ConceptB'] == ''),'prereq'] = 1\n",
    "# data.loc[(data['ConceptA'] == '') & (data['ConceptB'] == ''),'prereq'] = 1\n",
    "# data.loc[(data['ConceptA'] == '') & (data['ConceptB'] == ''),'prereq'] = 1\n",
    "# data.loc[(data['ConceptA'] == '') & (data['ConceptB'] == ''),'prereq'] = 1\n",
    "# data.loc[(data['ConceptA'] == '') & (data['ConceptB'] == ''),'prereq'] = 1\n",
    "# data.loc[(data['ConceptA'] == '') & (data['ConceptB'] == ''),'prereq'] = 1\n",
    "\n"
   ]
  }
 ],
 "metadata": {
  "kernelspec": {
   "display_name": "Python 3.7.4 64-bit ('base': conda)",
   "language": "python",
   "name": "python37464bitbaseconda65d29b067ab74d8c9fcb587724eb27cf"
  },
  "language_info": {
   "codemirror_mode": {
    "name": "ipython",
    "version": 3
   },
   "file_extension": ".py",
   "mimetype": "text/x-python",
   "name": "python",
   "nbconvert_exporter": "python",
   "pygments_lexer": "ipython3",
   "version": "3.7.4"
  }
 },
 "nbformat": 4,
 "nbformat_minor": 2
}
