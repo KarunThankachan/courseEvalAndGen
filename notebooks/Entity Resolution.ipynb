{
 "cells": [
  {
   "cell_type": "code",
   "execution_count": 83,
   "metadata": {},
   "outputs": [],
   "source": [
    "#Abbreviations, jumbled words, spelling mistakes, substring, BERT, lowercase\n",
    "\n",
    "l1 = [\"ML (Machine Learning)\", \"machine learing\", \"ML\", \"machine Learning(ML)\", \"  Machine  Learning\", \"HTTP Server Protocol\", \"Cloud Computing\", \"Machine Learning\", \"Cloud Computing\", \"Protocol-Independent Multicast\"]\n",
    "l2 = [\"Machine Learning\", \"ML\", \"Machine Learning (ML)\", \"Machine Learning\", \"ML\", \"Server HTTP Protocol\", \"Cloud Compting\", \"ML\", \"Cloud Computing Networks\", \"protocol independent multicast\"]"
   ]
  },
  {
   "cell_type": "code",
   "execution_count": 124,
   "metadata": {},
   "outputs": [],
   "source": [
    "from spellchecker import SpellChecker\n",
    "from nltk import word_tokenize\n",
    "\n",
    "def is_abbrev_single(a):\n",
    "    \n",
    "    a = a.strip()\n",
    "    \n",
    "    if a.isupper() and len(word_tokenize(a)) == 0:\n",
    "        return True\n",
    "    \n",
    "    return False\n",
    "\n",
    "def is_abbrev(a, b):\n",
    "        \n",
    "    a_abbrev = \"\"\n",
    "    for word in word_tokenize(a.replace(\"-\", \" \")):\n",
    "        a_abbrev += word[0]\n",
    "        \n",
    "    if(a_abbrev.strip().lower() == b.strip().lower()):\n",
    "        return True\n",
    "    \n",
    "    b_abbrev = \"\"\n",
    "    for word in word_tokenize(b.replace(\"-\", \" \")):\n",
    "        b_abbrev += word[0]\n",
    "            \n",
    "    if(b_abbrev.strip().lower() == a.strip().lower()):\n",
    "        return True\n",
    "    \n",
    "    return False\n",
    "\n",
    "#Returns True if both concepts, a and b refer to the same thing, False otherwise\n",
    "def entity_resolution(a, b):\n",
    "\n",
    "    a = a.strip()\n",
    "    b = b.strip()\n",
    "    \n",
    "    #Lowercase\n",
    "    if a.lower() == b.lower():\n",
    "        print(\"Reason: Lowercase\")\n",
    "        return True\n",
    "    \n",
    "    a = a.lower()\n",
    "    b = b.lower()\n",
    "    \n",
    "    if is_abbrev(a, b):\n",
    "        print(\"Reason: abbrev\")\n",
    "        return True\n",
    "\n",
    "    #Jumbled\n",
    "    words_a = [i for i in word_tokenize(a.replace(\"-\", \" \"))]\n",
    "    words_b = [i for i in word_tokenize(b.replace(\"-\", \" \"))]\n",
    "    if set(words_a) == set(words_b):\n",
    "        print(\"Reason: Jumbled/Hyphen\")\n",
    "        return True\n",
    "\n",
    "    #Spelling mistakes\n",
    "    spell = SpellChecker()\n",
    "    misspelled_a = spell.unknown(words_a)\n",
    "    misspelled_b = spell.unknown(words_b)\n",
    "    for misspelled_word in misspelled_a:\n",
    "        words_a[words_a.index(misspelled_word)] = spell.correction(misspelled_word)\n",
    "        a = a.replace(misspelled_word, spell.correction(misspelled_word))\n",
    "    for misspelled_word in misspelled_b:\n",
    "        words_b[words_b.index(misspelled_word)] = spell.correction(misspelled_word)\n",
    "        b = b.replace(misspelled_word, spell.correction(misspelled_word))\n",
    "\n",
    "    if set(words_a) == set(words_b):\n",
    "        print(\"Reason: Spelling Mistake/Jumbled\")\n",
    "        return True\n",
    "\n",
    "    #Substring\n",
    "    if a in b:\n",
    "        b_rest = b.replace(a, \"\").replace(\"(\", \"\").replace(\")\", \"\")\n",
    "        if is_abbrev(a, b_rest):\n",
    "            print(\"Reason: abbrev1\")\n",
    "            return True\n",
    "\n",
    "    if b in a:\n",
    "        a_rest = a.replace(b, \"\").replace(\"(\", \"\").replace(\")\", \"\")\n",
    "        if is_abbrev(b, a_rest):\n",
    "            print(\"Reason: abbrev2\")\n",
    "            return True\n",
    "\n",
    "    return False"
   ]
  },
  {
   "cell_type": "code",
   "execution_count": 125,
   "metadata": {},
   "outputs": [
    {
     "name": "stdout",
     "output_type": "stream",
     "text": [
      "ML (Machine Learning), Machine Learning\n",
      "Reason: abbrev2\n",
      "True\n",
      "\n",
      "\n",
      "machine learing, ML\n",
      "Reason: abbrev\n",
      "True\n",
      "\n",
      "\n",
      "ML, Machine Learning (ML)\n",
      "Reason: abbrev1\n",
      "True\n",
      "\n",
      "\n",
      "machine Learning(ML), Machine Learning\n",
      "Reason: abbrev2\n",
      "True\n",
      "\n",
      "\n",
      "  Machine  Learning, ML\n",
      "Reason: abbrev\n",
      "True\n",
      "\n",
      "\n",
      "HTTP Server Protocol, Server HTTP Protocol\n",
      "Reason: Jumbled/Hyphen\n",
      "True\n",
      "\n",
      "\n",
      "Cloud Computing, Cloud Compting\n",
      "Reason: Spelling Mistake/Jumbled\n",
      "True\n",
      "\n",
      "\n",
      "Machine Learning, ML\n",
      "Reason: abbrev\n",
      "True\n",
      "\n",
      "\n",
      "Cloud Computing, Cloud Computing Networks\n",
      "False\n",
      "\n",
      "\n",
      "Protocol-Independent Multicast, protocol independent multicast\n",
      "Reason: Jumbled/Hyphen\n",
      "True\n",
      "\n",
      "\n"
     ]
    }
   ],
   "source": [
    "for i in range(len(l1)):\n",
    "    print(l1[i] + \", \" + l2[i])\n",
    "    print(entity_resolution(l1[i], l2[i]))\n",
    "    print(\"\\n\")"
   ]
  },
  {
   "cell_type": "code",
   "execution_count": 49,
   "metadata": {},
   "outputs": [],
   "source": [
    "#distance-vector routing protocol vs Distance-Vector Multicast Routing Protocol\n",
    "\n",
    "#client-server paradigm vs client-server model"
   ]
  },
  {
   "cell_type": "code",
   "execution_count": 100,
   "metadata": {},
   "outputs": [
    {
     "data": {
      "text/plain": [
       "['abc', '(', 'ASD', ')']"
      ]
     },
     "execution_count": 100,
     "metadata": {},
     "output_type": "execute_result"
    }
   ],
   "source": [
    "word_tokenize(\"abc (ASD)\")"
   ]
  }
 ],
 "metadata": {
  "kernelspec": {
   "display_name": "Python 3",
   "language": "python",
   "name": "python3"
  },
  "language_info": {
   "codemirror_mode": {
    "name": "ipython",
    "version": 3
   },
   "file_extension": ".py",
   "mimetype": "text/x-python",
   "name": "python",
   "nbconvert_exporter": "python",
   "pygments_lexer": "ipython3",
   "version": "3.6.8"
  }
 },
 "nbformat": 4,
 "nbformat_minor": 2
}
