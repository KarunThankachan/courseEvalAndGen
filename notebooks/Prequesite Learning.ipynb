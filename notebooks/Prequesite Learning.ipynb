{
 "cells": [
  {
   "cell_type": "code",
   "execution_count": 1,
   "metadata": {},
   "outputs": [],
   "source": [
    "import pandas as pd\n",
    "import numpy as np\n",
    "from sklearn import preprocessing\n",
    "import matplotlib.pyplot as plt \n",
    "plt.rc(\"font\", size=14)\n",
    "from sklearn.linear_model import LogisticRegression\n",
    "from sklearn.model_selection import train_test_split\n",
    "import seaborn as sns\n",
    "sns.set(style=\"white\")\n",
    "sns.set(style=\"whitegrid\", color_codes=True)"
   ]
  },
  {
   "cell_type": "code",
   "execution_count": 2,
   "metadata": {},
   "outputs": [
    {
     "data": {
      "text/html": [
       "<div>\n",
       "<style scoped>\n",
       "    .dataframe tbody tr th:only-of-type {\n",
       "        vertical-align: middle;\n",
       "    }\n",
       "\n",
       "    .dataframe tbody tr th {\n",
       "        vertical-align: top;\n",
       "    }\n",
       "\n",
       "    .dataframe thead th {\n",
       "        text-align: right;\n",
       "    }\n",
       "</style>\n",
       "<table border=\"1\" class=\"dataframe\">\n",
       "  <thead>\n",
       "    <tr style=\"text-align: right;\">\n",
       "      <th></th>\n",
       "      <th>ConceptA</th>\n",
       "      <th>ConceptB</th>\n",
       "      <th>ChapterDist</th>\n",
       "      <th>PageDist</th>\n",
       "      <th>LineDist</th>\n",
       "      <th>WordDist</th>\n",
       "      <th>Total</th>\n",
       "      <th>LineCount</th>\n",
       "      <th>WordCount</th>\n",
       "      <th>Complexity</th>\n",
       "    </tr>\n",
       "  </thead>\n",
       "  <tbody>\n",
       "    <tr>\n",
       "      <th>0</th>\n",
       "      <td>amazon cloudfront</td>\n",
       "      <td>amazon cloudwatch</td>\n",
       "      <td>0</td>\n",
       "      <td>248</td>\n",
       "      <td>0</td>\n",
       "      <td>0</td>\n",
       "      <td>40</td>\n",
       "      <td>0</td>\n",
       "      <td>0</td>\n",
       "      <td>-6</td>\n",
       "    </tr>\n",
       "    <tr>\n",
       "      <th>1</th>\n",
       "      <td>amazon cloudfront</td>\n",
       "      <td>amazon devpay</td>\n",
       "      <td>0</td>\n",
       "      <td>64</td>\n",
       "      <td>0</td>\n",
       "      <td>0</td>\n",
       "      <td>8</td>\n",
       "      <td>4</td>\n",
       "      <td>0</td>\n",
       "      <td>2</td>\n",
       "    </tr>\n",
       "    <tr>\n",
       "      <th>2</th>\n",
       "      <td>amazon cloudfront</td>\n",
       "      <td>amazon elastic block store (ebs)</td>\n",
       "      <td>0</td>\n",
       "      <td>-48</td>\n",
       "      <td>0</td>\n",
       "      <td>0</td>\n",
       "      <td>8</td>\n",
       "      <td>0</td>\n",
       "      <td>0</td>\n",
       "      <td>2</td>\n",
       "    </tr>\n",
       "    <tr>\n",
       "      <th>3</th>\n",
       "      <td>amazon cloudfront</td>\n",
       "      <td>amazon machine images (amis)</td>\n",
       "      <td>0</td>\n",
       "      <td>48</td>\n",
       "      <td>0</td>\n",
       "      <td>0</td>\n",
       "      <td>8</td>\n",
       "      <td>0</td>\n",
       "      <td>0</td>\n",
       "      <td>2</td>\n",
       "    </tr>\n",
       "    <tr>\n",
       "      <th>4</th>\n",
       "      <td>amazon cloudfront</td>\n",
       "      <td>iaas model</td>\n",
       "      <td>80</td>\n",
       "      <td>2432</td>\n",
       "      <td>0</td>\n",
       "      <td>0</td>\n",
       "      <td>16</td>\n",
       "      <td>0</td>\n",
       "      <td>0</td>\n",
       "      <td>0</td>\n",
       "    </tr>\n",
       "  </tbody>\n",
       "</table>\n",
       "</div>"
      ],
      "text/plain": [
       "            ConceptA                          ConceptB  ChapterDist  PageDist  \\\n",
       "0  amazon cloudfront                 amazon cloudwatch            0       248   \n",
       "1  amazon cloudfront                     amazon devpay            0        64   \n",
       "2  amazon cloudfront  amazon elastic block store (ebs)            0       -48   \n",
       "3  amazon cloudfront      amazon machine images (amis)            0        48   \n",
       "4  amazon cloudfront                        iaas model           80      2432   \n",
       "\n",
       "   LineDist  WordDist  Total  LineCount  WordCount  Complexity  \n",
       "0         0         0     40          0          0          -6  \n",
       "1         0         0      8          4          0           2  \n",
       "2         0         0      8          0          0           2  \n",
       "3         0         0      8          0          0           2  \n",
       "4         0         0     16          0          0           0  "
      ]
     },
     "execution_count": 2,
     "metadata": {},
     "output_type": "execute_result"
    }
   ],
   "source": [
    "data = pd.read_csv('../results/concepts_features.csv', engine='python')\n",
    "data.head()"
   ]
  },
  {
   "cell_type": "code",
   "execution_count": 3,
   "metadata": {},
   "outputs": [
    {
     "name": "stdout",
     "output_type": "stream",
     "text": [
      "Total:\t\t 1670556\n",
      "Current:\t 4\n"
     ]
    }
   ],
   "source": [
    "concepts = data.copy()[['ConceptA','ConceptB']]\n",
    "concepts.loc[:,'prereq'] = 0\n",
    "concepts.loc[(concepts['ConceptA'] == 'abstraction') & (concepts['ConceptB'] == 'cloud computing'),'prereq'] = 1\n",
    "concepts.loc[(concepts['ConceptA'] == 'virtualization') & (concepts['ConceptB'] == 'cloud computing'),'prereq'] = 1\n",
    "concepts.loc[(concepts['ConceptA'] == 'infrastructure') & (concepts['ConceptB'] == 'deployment model'),'prereq'] = 1\n",
    "concepts.loc[(concepts['ConceptA'] == 'service') & (concepts['ConceptB'] == 'service models'),'prereq'] = 1\n",
    "print(\"Total:\\t\\t\", concepts.shape[0])\n",
    "print(\"Current:\\t\", sum(concepts['prereq']))"
   ]
  },
  {
   "cell_type": "code",
   "execution_count": 37,
   "metadata": {},
   "outputs": [
    {
     "data": {
      "text/plain": [
       "0               amazon cloudfront\n",
       "7                   amazon devpay\n",
       "93       amazon elastic mapreduce\n",
       "135        amazon mechanical turk\n",
       "342                        access\n",
       "                   ...           \n",
       "39549                web services\n",
       "39550                web services\n",
       "40083                   framework\n",
       "40377                       alexa\n",
       "40378                       alexa\n",
       "Name: Concept, Length: 150, dtype: object"
      ]
     },
     "execution_count": 37,
     "metadata": {},
     "output_type": "execute_result"
    }
   ],
   "source": [
    "# concept_feats = pd.read_csv('../results/concepts.csv', engine='python')\n",
    "# concept_feats[concept_feats['Page'] == ]['Concept']"
   ]
  },
  {
   "cell_type": "code",
   "execution_count": null,
   "metadata": {},
   "outputs": [],
   "source": [
    "# https://stackoverflow.com/questions/21816346/fine-tuning-parameters-in-logistic-regression\n",
    "# https://towardsdatascience.com/building-a-logistic-regression-in-python-step-by-step-becd4d56c9c8"
   ]
  },
  {
   "cell_type": "code",
   "execution_count": null,
   "metadata": {},
   "outputs": [],
   "source": [
    "# Ref : https://arxiv.org/pdf/1106.1813.pdf\n",
    "# SMOTE Technique for Class Balancing\n",
    "\n",
    "X = concepts.loc[:, concepts.columns != 'prereq']\n",
    "y = concepts.loc[:, concepts.columns == 'prereq']\n",
    "\n",
    "from imblearn.over_sampling import SMOTE\n",
    "os = SMOTE(random_state=0)\n",
    "X_train, X_test, y_train, y_test = train_test_split(X, y, test_size=0.3, random_state=0)\n",
    "\n",
    "columns = X_train.columns\n",
    "os_data_X,os_data_y=os.fit_sample(X_train, y_train)\n",
    "os_data_X = pd.DataFrame(data=os_data_X,columns=columns )\n",
    "os_data_y= pd.DataFrame(data=os_data_y,columns=['y'])\n",
    "\n",
    "# we can Check the numbers of our data\n",
    "print(\"length of oversampled data is \",len(os_data_X))\n",
    "print(\"Number of no subscription in oversampled data\",len(os_data_y[os_data_y['y']==0]))\n",
    "print(\"Number of subscription\",len(os_data_y[os_data_y['y']==1]))\n",
    "print(\"Proportion of no subscription data in oversampled data is \",len(os_data_y[os_data_y['y']==0])/len(os_data_X))\n",
    "print(\"Proportion of subscription data in oversampled data is \",len(os_data_y[os_data_y['y']==1])/len(os_data_X))"
   ]
  },
  {
   "cell_type": "code",
   "execution_count": null,
   "metadata": {},
   "outputs": [],
   "source": [
    "# Ref : https://scikit-learn.org/stable/modules/generated/sklearn.feature_selection.RFE.html\n",
    "# REF algorithm + P-Values of features\n",
    "\n",
    "data_final_vars=data_final.columns.values.tolist()\n",
    "y=['y']\n",
    "X=[i for i in data_final_vars if i not in y]\n",
    "from sklearn.feature_selection import RFE\n",
    "from sklearn.linear_model import LogisticRegression\n",
    "logreg = LogisticRegression()\n",
    "rfe = RFE(logreg, 20)\n",
    "rfe = rfe.fit(os_data_X, os_data_y.values.ravel())\n",
    "print(rfe.support_)\n",
    "print(rfe.ranking_)"
   ]
  },
  {
   "cell_type": "code",
   "execution_count": null,
   "metadata": {},
   "outputs": [],
   "source": [
    "# Evaluation on F1-Score\n",
    "\n",
    "from sklearn.linear_model import LogisticRegression\n",
    "from sklearn import metrics\n",
    "X_train, X_test, y_train, y_test = train_test_split(X, y, test_size=0.3, random_state=0)\n",
    "logreg = LogisticRegression()\n",
    "logreg.fit(X_train, y_train)\n",
    "\n",
    "from sklearn.metrics import confusion_matrix\n",
    "confusion_matrix = confusion_matrix(y_test, y_pred)\n",
    "print(confusion_matrix)\n",
    "\n",
    "from sklearn.metrics import classification_report\n",
    "print(classification_report(y_test, y_pred))"
   ]
  },
  {
   "cell_type": "code",
   "execution_count": null,
   "metadata": {},
   "outputs": [],
   "source": [
    "# Analysis of ROC Curves\n",
    "\n",
    "from sklearn.metrics import roc_auc_score\n",
    "from sklearn.metrics import roc_curve\n",
    "logit_roc_auc = roc_auc_score(y_test, logreg.predict(X_test))\n",
    "fpr, tpr, thresholds = roc_curve(y_test, logreg.predict_proba(X_test)[:,1])\n",
    "plt.figure()\n",
    "plt.plot(fpr, tpr, label='Logistic Regression (area = %0.2f)' % logit_roc_auc)\n",
    "plt.plot([0, 1], [0, 1],'r--')\n",
    "plt.xlim([0.0, 1.0])\n",
    "plt.ylim([0.0, 1.05])\n",
    "plt.xlabel('False Positive Rate')\n",
    "plt.ylabel('True Positive Rate')\n",
    "plt.title('Receiver operating characteristic')\n",
    "plt.legend(loc=\"lower right\")\n",
    "plt.savefig('Log_ROC')\n",
    "plt.show()"
   ]
  },
  {
   "cell_type": "code",
   "execution_count": 4,
   "metadata": {},
   "outputs": [
    {
     "data": {
      "image/png": "[encoded data removed]",
      "text/plain": [
       "<Figure size 432x288 with 1 Axes>"
      ]
     },
     "metadata": {},
     "output_type": "display_data"
    },
    {
     "data": {
      "text/plain": [
       "<Figure size 14400x10800 with 0 Axes>"
      ]
     },
     "metadata": {},
     "output_type": "display_data"
    }
   ],
   "source": [
    "import networkx as nx\n",
    "G = nx.DiGraph()\n",
    "\n",
    "# # add the nodes\n",
    "# nodes = list(concepts['ConceptA'].unique())\n",
    "# #print(nodes)\n",
    "# G.add_nodes_from(nodes[:300])\n",
    "\n",
    "\n",
    "# add the edges\n",
    "concepts_list = []\n",
    "ConceptA = concepts[concepts['prereq']==1]['ConceptA']\n",
    "ConceptB = concepts[concepts['prereq']==1]['ConceptB']\n",
    "prereqs = []\n",
    "for conceptA, conceptB in zip(ConceptA, ConceptB):\n",
    "    prereqs.append((conceptA, conceptB))\n",
    "    concepts_list.append(conceptA)\n",
    "    concepts_list.append(conceptB)\n",
    "concepts_list = list(set(concepts_list))\n",
    "\n",
    "G.add_nodes_from(concepts_list)\n",
    "G.add_edges_from(prereqs)\n",
    "\n",
    "%matplotlib inline\n",
    "import matplotlib.pyplot as plt\n",
    "nx.draw_random(G,  with_labels = True)\n",
    "plt.figure(figsize=(200,150))\n",
    "plt.show()\n"
   ]
  }
 ],
 "metadata": {
  "kernelspec": {
   "display_name": "Python 3.7.4 64-bit ('base': conda)",
   "language": "python",
   "name": "python37464bitbaseconda65d29b067ab74d8c9fcb587724eb27cf"
  },
  "language_info": {
   "codemirror_mode": {
    "name": "ipython",
    "version": 3
   },
   "file_extension": ".py",
   "mimetype": "text/x-python",
   "name": "python",
   "nbconvert_exporter": "python",
   "pygments_lexer": "ipython3",
   "version": "3.7.4"
  }
 },
 "nbformat": 4,
 "nbformat_minor": 2
}
